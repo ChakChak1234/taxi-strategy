{
 "metadata": {
  "name": "",
  "signature": "sha256:dc0ee59913ff74ab89485c72364280931dfdbee088f6dd5abad1e9baef745eaf"
 },
 "nbformat": 3,
 "nbformat_minor": 0,
 "worksheets": [
  {
   "cells": [
    {
     "cell_type": "code",
     "collapsed": false,
     "input": [
      "import pandas as pd"
     ],
     "language": "python",
     "metadata": {},
     "outputs": [],
     "prompt_number": 2
    },
    {
     "cell_type": "code",
     "collapsed": false,
     "input": [
      "#convert csv to hdf5, clean up headers and drop some columns, sort by ['hack_license', 'pickup_datetime']\n",
      "\n",
      "# fares_data_file = 'data/trip_fare_2.csv.gz'\n",
      "# trips_data_file = 'data/trip_data_2.csv.gz'\n",
      "\n",
      "# fares_pd = pd.read_csv(fares_data_file, usecols=[0, 1, 3, 4, 5, 8, 10], compression='gzip')\n",
      "# fares_old_columns = fares_pd.columns\n",
      "# fares_pd_columns = [header.strip() for header in fares_old_columns]\n",
      "# fares_pd.columns = fares_pd_columns\n",
      "\n",
      "# hdf = pd.HDFStore('data/trip_fare_2.h5')\n",
      "# hdf['data'] = fares_pd.sort(['hack_license', 'pickup_datetime'])\n",
      "# hdf.close()\n",
      "# del fares_pd\n",
      "\n",
      "# trips_pd = pd.read_csv(trips_data_file, usecols=[1]+range(5, 14), compression='gzip')\n",
      "# trips_old_columns = trips_pd.columns\n",
      "# trips_pd_columns = [header.strip() for header in trips_old_columns]\n",
      "# trips_pd.columns = trips_pd_columns\n",
      "# hdf = pd.HDFStore('data/trip_data_2.h5')\n",
      "# hdf['data'] = trips_pd.sort(['hack_license', 'pickup_datetime'])\n",
      "# hdf.close()\n",
      "# del trips_pd"
     ],
     "language": "python",
     "metadata": {},
     "outputs": [],
     "prompt_number": 3
    },
    {
     "cell_type": "code",
     "collapsed": false,
     "input": [
      "#shorten medallion and hack"
     ],
     "language": "python",
     "metadata": {},
     "outputs": [],
     "prompt_number": 3
    },
    {
     "cell_type": "code",
     "collapsed": false,
     "input": [
      "fares_data_file = 'data/trip_fare_2.h5'\n",
      "fares_pd = pd.read_hdf(fares_data_file, 'data')"
     ],
     "language": "python",
     "metadata": {},
     "outputs": [],
     "prompt_number": 2
    },
    {
     "cell_type": "code",
     "collapsed": false,
     "input": [
      "fares_short_pd = fares_pd\n",
      "fares_short_pd['medallion'] = fares_pd['medallion'].apply(lambda x: x[:8])\n",
      "fares_short_pd['hack_license'] = fares_pd['hack_license'].apply(lambda x: x[:8])\n",
      "del fares_pd"
     ],
     "language": "python",
     "metadata": {},
     "outputs": [],
     "prompt_number": 3
    },
    {
     "cell_type": "code",
     "collapsed": false,
     "input": [
      "fares_short_pd.to_csv('data/trip_fare_short_2.csv')\n",
      "del fares_short_pd"
     ],
     "language": "python",
     "metadata": {},
     "outputs": [],
     "prompt_number": 4
    },
    {
     "cell_type": "code",
     "collapsed": false,
     "input": [
      "trips_data_file = 'data/trip_data_2.h5'\n",
      "trips_pd = pd.read_hdf(trips_data_file, 'data')"
     ],
     "language": "python",
     "metadata": {},
     "outputs": [],
     "prompt_number": 10
    },
    {
     "cell_type": "code",
     "collapsed": false,
     "input": [
      "trips_short_pd = trips_pd\n",
      "trips_short_pd['hack_license'] = trips_pd['hack_license'].apply(lambda x: x[:8])\n",
      "del trips_pd"
     ],
     "language": "python",
     "metadata": {},
     "outputs": [],
     "prompt_number": 11
    },
    {
     "cell_type": "code",
     "collapsed": false,
     "input": [
      "trips_short_pd.to_csv('data/trip_data_short_2.csv')\n",
      "del trips_short_pd"
     ],
     "language": "python",
     "metadata": {},
     "outputs": [],
     "prompt_number": 12
    },
    {
     "cell_type": "code",
     "collapsed": false,
     "input": [
      "#merge fare and trip"
     ],
     "language": "python",
     "metadata": {},
     "outputs": []
    },
    {
     "cell_type": "code",
     "collapsed": false,
     "input": [
      "fares_data_file = 'data/trip_fare_short_2.csv'\n",
      "trips_data_file = 'data/trip_data_short_2.csv'\n",
      "\n",
      "fares_pd = pd.read_csv(fares_data_file)\n",
      "trips_pd = pd.read_csv(trips_data_file)"
     ],
     "language": "python",
     "metadata": {},
     "outputs": [],
     "prompt_number": 3
    },
    {
     "cell_type": "code",
     "collapsed": false,
     "input": [
      "taxi_pd = pd.merge(fares_pd, trips_pd, how='outer')\n",
      "del fares_pd, trips_pd"
     ],
     "language": "python",
     "metadata": {},
     "outputs": [],
     "prompt_number": 15
    },
    {
     "cell_type": "code",
     "collapsed": false,
     "input": [
      "taxi_pd.to_csv('data/taxi_short_2.csv')\n",
      "del taxi_pd\n",
      "\n",
      "#compress to .gz externally"
     ],
     "language": "python",
     "metadata": {},
     "outputs": [],
     "prompt_number": 16
    },
    {
     "cell_type": "code",
     "collapsed": false,
     "input": [
      "#cut out drivers with less than num_trips_per_hack_cutoff trips"
     ],
     "language": "python",
     "metadata": {},
     "outputs": []
    },
    {
     "cell_type": "code",
     "collapsed": false,
     "input": [
      "# fares_pd = pd.read_hdf('data/trip_fare_short_2.h5', 'data')\n",
      "\n",
      "# fares_gb_hack_pd = fares_pd.groupby('hack_license')\n",
      "# del fares_pd\n",
      "\n",
      "# num_trips_per_hack_cut = 100\n",
      "# fares_numtripscut_pd = fares_gb_hack_pd.filter(lambda x: len(x) > num_trips_per_hack_cut)\n",
      "# del fares_gb_hack_pd\n",
      "\n",
      "# d = pd.HDFStore('data/trip_fare_short_100tripscut_2.h5')\n",
      "# d['data'] = fares_numtripscut_pd\n",
      "# d.close()\n",
      "\n",
      "# del fares_numtripscut_pd"
     ],
     "language": "python",
     "metadata": {},
     "outputs": [],
     "prompt_number": 15
    },
    {
     "cell_type": "code",
     "collapsed": false,
     "input": [
      "# #merge and drop cash payments\n",
      "\n",
      "# fares_data_file = 'data/trip_fare_2.h5'\n",
      "# trips_data_file = 'data/trip_data_2.h5'\n",
      "\n",
      "# fares_pd = pd.read_hdf(fares_data_file, 'data')\n",
      "# trips_pd = pd.read_hdf(trips_data_file, 'data')\n",
      "\n",
      "# raw_taxi_pd = pd.merge(fares_pd, trips_pd, left_index=True, right_index=True, how='outer')\n",
      "# del fares_pd, trips_pd\n",
      "# taxi_CRD_pd = pd.DataFrame(raw_taxi_pd[raw_taxi_pd.payment_type == 'CRD']).drop('payment_type', 1)\n",
      "# del raw_taxi_pd"
     ],
     "language": "python",
     "metadata": {},
     "outputs": []
    },
    {
     "cell_type": "code",
     "collapsed": false,
     "input": [
      "# #make cuts on merged data and save\n",
      "\n",
      "# center_lat = 40.75\n",
      "# center_lng = -73.925\n",
      "# dlat = 0.10\n",
      "# dlng = 0.10\n",
      "# min_lat = center_lat - dlat\n",
      "# max_lat = center_lat + dlat\n",
      "# min_lng = center_lng - dlng\n",
      "# max_lng = center_lng + dlng\n",
      "\n",
      "# taxi_pd = pd.DataFrame(taxi_CRD_pd[(taxi_CRD_pd.trip_distance <= 100) & \n",
      "#                                    (taxi_CRD_pd.trip_distance > 0) &\n",
      "#                                    (taxi_CRD_pd.trip_time_in_secs > 0) &\n",
      "#                                    (taxi_CRD_pd.fare_amount < 150) &\n",
      "#                                    (taxi_CRD_pd.fare_amount*2 % 1 == 0) &\n",
      "#                                    (taxi_CRD_pd.pickup_latitude > min_lat) &\n",
      "#                                    (taxi_CRD_pd.pickup_latitude < max_lat) &\n",
      "#                                    (taxi_CRD_pd.pickup_longitude > min_lng) &\n",
      "#                                    (taxi_CRD_pd.pickup_longitude < max_lng) &\n",
      "#                                    (taxi_CRD_pd.dropoff_latitude > min_lat) &\n",
      "#                                    (taxi_CRD_pd.dropoff_latitude < max_lat) &\n",
      "#                                    (taxi_CRD_pd.dropoff_longitude > min_lng) &\n",
      "#                                    (taxi_CRD_pd.dropoff_longitude < max_lng)])\n",
      "# del taxi_CRD_pd\n",
      "\n",
      "# d = pd.HDFStore('data/taxi_CRD_pd_basic_cuts_2.h5')\n",
      "# d['data'] = taxi_pd\n",
      "# d.close()"
     ],
     "language": "python",
     "metadata": {},
     "outputs": [],
     "prompt_number": 4
    },
    {
     "cell_type": "code",
     "collapsed": false,
     "input": [
      "#cut out drivers with less than num_trips_per_hack_cutoff trips\n",
      "# taxi_gb_hack_pd = taxi_pd.groupby('hack_license')\n",
      "# num_trips_per_hack_cutoff = 50\n",
      "# taxi_trips_cutoff_pd = taxi_gb_hack_pd.filter(lambda x: len(x) > num_trips_per_hack_cutoff)\n",
      "\n",
      "# d = pd.HDFStore('data/taxi_CRD_pd_basic_50trips_cuts_2.h5')\n",
      "# d['data'] = taxi_trips_cutoff_pd\n",
      "# d.close()"
     ],
     "language": "python",
     "metadata": {},
     "outputs": [],
     "prompt_number": 5
    }
   ],
   "metadata": {}
  }
 ]
}