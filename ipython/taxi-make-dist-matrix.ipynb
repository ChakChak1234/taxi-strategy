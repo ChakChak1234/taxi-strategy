{
 "metadata": {
  "name": "",
  "signature": "sha256:93e1064768dad64e3faba936d78b59b1414d11a7d3d5ecffcea2b200523c2048"
 },
 "nbformat": 3,
 "nbformat_minor": 0,
 "worksheets": [
  {
   "cells": [
    {
     "cell_type": "code",
     "collapsed": false,
     "input": [
      "#make distance matrix between zones using average of occupied trip data\n",
      "#we will use these distances to tag driver strategies (hunting vs. hanging) for empty trips"
     ],
     "language": "python",
     "metadata": {},
     "outputs": []
    },
    {
     "cell_type": "code",
     "collapsed": false,
     "input": [
      "import pandas as pd\n",
      "\n",
      "#use merged data with shortened med/hack, sorted by hack/pickup_datetime, zoned (see csv-to-hdf5.ipynb \n",
      "#and -make-zoned-data.ipynb)\n",
      "taxi_data_file = 'data/taxi_short_zoned_2.csv.gz'\n",
      "\n",
      "taxi_pd = pd.read_csv(taxi_data_file, compression='gzip', nrows=1000000)"
     ],
     "language": "python",
     "metadata": {},
     "outputs": [],
     "prompt_number": 1
    },
    {
     "cell_type": "code",
     "collapsed": false,
     "input": [
      "zone_matrix = load('data/zone_matrix_40x40.dat')"
     ],
     "language": "python",
     "metadata": {},
     "outputs": [],
     "prompt_number": 6
    },
    {
     "cell_type": "code",
     "collapsed": false,
     "input": [
      "zones = unique(zone_matrix)\n",
      "num_zones = len(zones)"
     ],
     "language": "python",
     "metadata": {},
     "outputs": [],
     "prompt_number": 7
    },
    {
     "cell_type": "code",
     "collapsed": false,
     "input": [
      "# taxi_gb_zone_pd = taxi_pd.groupby(['pickup_zone', 'dropoff_zone'])\n",
      "# dist_gb_zone_pd = pd.DataFrame(taxi_gb_zone_pd.trip_distance.mean().fillna(-1))"
     ],
     "language": "python",
     "metadata": {},
     "outputs": [],
     "prompt_number": 8
    },
    {
     "cell_type": "code",
     "collapsed": false,
     "input": [
      "# dist_gb_zone_pd.ix[108].ix[108]"
     ],
     "language": "python",
     "metadata": {},
     "outputs": [],
     "prompt_number": 9
    },
    {
     "cell_type": "code",
     "collapsed": false,
     "input": [
      "# pick_drop_zone_mi = pd.MultiIndex.from_product([zones, zones], names=['pickup_zone', 'dropoff_zone'])"
     ],
     "language": "python",
     "metadata": {},
     "outputs": [],
     "prompt_number": 10
    },
    {
     "cell_type": "code",
     "collapsed": false,
     "input": [
      "# dist_matrix = dist_gb_zone_pd.reindex(pick_drop_zone_mi).fillna(-1).values.reshape((num_zones, num_zones))"
     ],
     "language": "python",
     "metadata": {},
     "outputs": [],
     "prompt_number": 11
    },
    {
     "cell_type": "code",
     "collapsed": false,
     "input": [
      "# diagonal(dist_matrix)"
     ],
     "language": "python",
     "metadata": {},
     "outputs": [],
     "prompt_number": 12
    },
    {
     "cell_type": "code",
     "collapsed": false,
     "input": [
      "#screw it, use euclidean distance\n",
      "\n",
      "#define lng/lat boundaries\n",
      "center_lat = 40.75\n",
      "center_lng = -73.925\n",
      "dlat = 0.10\n",
      "dlng = 0.10\n",
      "min_lat = center_lat - dlat\n",
      "max_lat = center_lat + dlat\n",
      "min_lng = center_lng - dlng\n",
      "max_lng = center_lng + dlng\n",
      "\n",
      "num_lat_bins = 40\n",
      "num_lng_bins = 40\n",
      "\n",
      "lat_bins = linspace(min_lat, max_lat, num_lat_bins+1)\n",
      "lng_bins = linspace(min_lng, max_lng, num_lng_bins+1)\n",
      "\n",
      "delta_lat = lat_bins[1] - lat_bins[0]\n",
      "delta_lng = lng_bins[1] - lng_bins[0]\n",
      "\n",
      "radius_earth_miles = 3963.17\n",
      "delta_lat_miles = deg2rad(delta_lat) * radius_earth_miles\n",
      "delta_lng_miles = deg2rad(delta_lng) * radius_earth_miles"
     ],
     "language": "python",
     "metadata": {},
     "outputs": [],
     "prompt_number": 13
    },
    {
     "cell_type": "code",
     "collapsed": false,
     "input": [
      "def zone_dist_sq(zone1, zone2):\n",
      "    #calculate zone-to-zone distance using data\n",
      "    return taxi_pd[(taxi_pd.pickup_zone == zone1) & (taxi_pd.dropoff_zone == zone2)].trip_distance.mean()**2"
     ],
     "language": "python",
     "metadata": {},
     "outputs": [],
     "prompt_number": 14
    },
    {
     "cell_type": "code",
     "collapsed": false,
     "input": [
      "def zone_euclid_dist_sq(zone1, zone2):\n",
      "    if zone1 == 0 | zone2 == 0:\n",
      "        #use data for trips to/from \"other\" zone\n",
      "        return zone_dist_sq(zone1, zone2)\n",
      "    else:\n",
      "        #otherwise use euclidean distance\n",
      "        zone1_lat_bin = floor(zone1 / num_lng_bins) + 1\n",
      "        zone1_lng_bin = zone1 % num_lng_bins\n",
      "        zone2_lat_bin = floor(zone2 / num_lng_bins) + 1\n",
      "        zone2_lng_bin = zone2 % num_lng_bins\n",
      "\n",
      "        lat_miles = (zone2_lat_bin - zone1_lat_bin) * delta_lat_miles\n",
      "        lng_miles = (zone2_lng_bin - zone1_lng_bin) * delta_lat_miles\n",
      "    \n",
      "    return around(lat_miles**2 + lng_miles**2, decimals=2)"
     ],
     "language": "python",
     "metadata": {},
     "outputs": [],
     "prompt_number": 15
    },
    {
     "cell_type": "code",
     "collapsed": false,
     "input": [
      "euclid_dist_array = around(sqrt(array([zone_euclid_dist_sq(zone1, zone2) for zone1 in zones for zone2 in zones])), 2)\n",
      "euclid_dist_matrix = around(sqrt(array([[zone_euclid_dist_sq(zone1, zone2) for zone1 in zones] for zone2 in zones])), 2)"
     ],
     "language": "python",
     "metadata": {},
     "outputs": [],
     "prompt_number": 16
    },
    {
     "cell_type": "code",
     "collapsed": false,
     "input": [
      "# pick_drop_zone_i = pd.Index([(zone1, zone2) for zone1 in zones for zone2 in zones], names=['pickup_zone', 'dropoff_zone'])\n",
      "# dist_matrix_pd = pd.DataFrame(dist_array).reindex(pick_drop_zone_i, columns=['euclid_distance'])\n",
      "# dist_matrix_pd['euclid_distance'] = dist_array"
     ],
     "language": "python",
     "metadata": {},
     "outputs": [],
     "prompt_number": 17
    },
    {
     "cell_type": "code",
     "collapsed": false,
     "input": [
      "pick_zone_i = [zone1 for zone1 in zones for zone2 in zones]\n",
      "drop_zone_i = [zone2 for zone1 in zones for zone2 in zones]"
     ],
     "language": "python",
     "metadata": {},
     "outputs": [],
     "prompt_number": 18
    },
    {
     "cell_type": "code",
     "collapsed": false,
     "input": [
      "euclid_dist_matrix_pd = pd.DataFrame(array([pick_zone_i, drop_zone_i, euclid_dist_array]).T, columns=['pickup_zone', \n",
      "                                                                                                      'dropoff_zone', \n",
      "                                                                                                      'euclid_distance'])"
     ],
     "language": "python",
     "metadata": {},
     "outputs": [],
     "prompt_number": 19
    },
    {
     "cell_type": "code",
     "collapsed": false,
     "input": [
      "euclid_dist_matrix_pd.to_pickle('data/euclid_distance_251x251_pd_new.pkl')"
     ],
     "language": "python",
     "metadata": {},
     "outputs": [],
     "prompt_number": 20
    },
    {
     "cell_type": "code",
     "collapsed": false,
     "input": [
      "euclid_dist_matrix_pd.groupby(['pickup_zone', 'dropoff_zone']).euclid_distance.mean().to_pickle('data/euclid_dist_pd_new.pkl')"
     ],
     "language": "python",
     "metadata": {},
     "outputs": [],
     "prompt_number": 21
    },
    {
     "cell_type": "code",
     "collapsed": false,
     "input": [
      "# dist_array = sqrt(array([zone_dist_sq(zone1, zone2) for zone1 in zones for zone2 in zones]))\n",
      "# dist_matrix = sqrt(array([[zone_dist_sq(zone1, zone2) for zone1 in zones] for zone2 in zones]))"
     ],
     "language": "python",
     "metadata": {},
     "outputs": [],
     "prompt_number": 31
    },
    {
     "cell_type": "code",
     "collapsed": false,
     "input": [
      "# dist_matrix_pd = pd.DataFrame(array([pick_zone_i, drop_zone_i, dist_array]).T, columns=['pickup_zone', \n",
      "#                                                                                         'dropoff_zone', \n",
      "#                                                                                         'data_distance'])"
     ],
     "language": "python",
     "metadata": {},
     "outputs": [],
     "prompt_number": 32
    },
    {
     "cell_type": "code",
     "collapsed": false,
     "input": [
      "# euclid_dist_matrix_pd.to_pickle('data/data_distance_151x151_pd.pkl')"
     ],
     "language": "python",
     "metadata": {},
     "outputs": [],
     "prompt_number": 33
    }
   ],
   "metadata": {}
  }
 ]
}