{
 "metadata": {
  "name": "",
  "signature": "sha256:ecb66062950d28a6fb15695494c6169ae2ab52b55b753d3fd5fa210542d67c78"
 },
 "nbformat": 3,
 "nbformat_minor": 0,
 "worksheets": [
  {
   "cells": [
    {
     "cell_type": "code",
     "collapsed": false,
     "input": [
      "#define lng/lat boundaries\n",
      "center_lat = 40.75\n",
      "center_lng = -73.925\n",
      "dlat = 0.1\n",
      "dlng = 0.1\n",
      "min_lat = center_lat - dlat\n",
      "max_lat = center_lat + dlat\n",
      "min_lng = center_lng - dlng\n",
      "max_lng = center_lng + dlng\n",
      "num_lat_bins = 40\n",
      "num_lng_bins = 40\n",
      "lat_bin_size = 2*dlat/num_lat_bins\n",
      "lng_bin_size = 2*dlng/num_lng_bins\n",
      "lats = linspace(min_lat, max_lat, num_lat_bins+1)[:-1]\n",
      "lngs = linspace(min_lng, max_lng, num_lng_bins+1)[:-1]"
     ],
     "language": "python",
     "metadata": {},
     "outputs": [],
     "prompt_number": 12
    },
    {
     "cell_type": "code",
     "collapsed": false,
     "input": [
      "min_lat, max_lng"
     ],
     "language": "python",
     "metadata": {},
     "outputs": [
      {
       "metadata": {},
       "output_type": "pyout",
       "prompt_number": 18,
       "text": [
        "(40.65, -73.825)"
       ]
      }
     ],
     "prompt_number": 18
    },
    {
     "cell_type": "code",
     "collapsed": false,
     "input": [
      "from matplotlib import colors"
     ],
     "language": "python",
     "metadata": {},
     "outputs": [],
     "prompt_number": 13
    },
    {
     "cell_type": "code",
     "collapsed": false,
     "input": [
      "norm_L1 = colors.Normalize(vmin=-0.15, vmax=0.15)\n",
      "cmap_L1 = cm.jet\n",
      "\n",
      "def weight_to_rgba_L1(x):\n",
      "    return cm.ScalarMappable(norm=norm_L1, cmap=cmap_L1).to_rgba(x)\n",
      "\n",
      "norm = colors.Normalize(vmin=-0.05, vmax=0.05)\n",
      "cmap = cm.jet\n",
      "\n",
      "def weight_to_rgba(x):\n",
      "    return cm.ScalarMappable(norm=norm, cmap=cmap).to_rgba(x)"
     ],
     "language": "python",
     "metadata": {},
     "outputs": [],
     "prompt_number": 14
    },
    {
     "cell_type": "code",
     "collapsed": false,
     "input": [
      "for day_of_week in [1,2]:\n",
      "    if day_of_week == 1:\n",
      "        day_of_week_tag = 'Weekday'\n",
      "    else:\n",
      "        day_of_week_tag = 'Weekend'\n",
      "    for time_bin in range(12):\n",
      "        data_L1 = loadtxt('figures/zone-weight-L1/data/' + \n",
      "                          day_of_week_tag + '-' + '{0:0>2}.txt'.format(time_bin))\n",
      "        data = loadtxt('figures/zone-weight/data/' + \n",
      "                       day_of_week_tag + '-' + '{0:0>2}.txt'.format(time_bin))\n",
      "        converted_L1 = open('figures/zone-weight-L1/data/converted/' + \n",
      "                            day_of_week_tag + '-' + '{0}-L1.txt'.format(time_bin), 'w')\n",
      "        converted = open('figures/zone-weight/data/converted/' +\n",
      "                         day_of_week_tag + '-' + '{0}.txt'.format(time_bin), 'w')\n",
      "        for lat_i in range(num_lat_bins):\n",
      "            for lng_i in range(num_lng_bins):\n",
      "                lat = lats[lat_i]\n",
      "                lng = lngs[lng_i]\n",
      "                weight_L1 = data_L1[lat_i, lng_i]\n",
      "                weight = data[lat_i, lng_i]\n",
      "                r_L1, g_L1, b_L1, a_L1 = weight_to_rgba_L1(weight_L1)\n",
      "                r, g, b, a = weight_to_rgba(weight)\n",
      "                \n",
      "                converted_L1.write('{0:.5f}, {1:.5f}, {2:.5f}, {3:.5f}, {4:.3f}, {5:.3f}, {6:.3f}, {7:.3f}, {8:.3f}\\n'.format(lat, lng, \n",
      "                                                                                 lat + lat_bin_size, \n",
      "                                                                                 lng + lng_bin_size,\n",
      "                                                                                 r_L1, g_L1, b_L1, a_L1,\n",
      "                                                                                 weight_L1))\n",
      "                converted.write('{0:.5f}, {1:.5f}, {2:.5f}, {3:.5f}, {4:.3f}, {5:.3f}, {6:.3f}, {7:.3f}, {8:.3f}\\n'.format(lat, lng, \n",
      "                                                                              lat + lat_bin_size, \n",
      "                                                                              lng + lng_bin_size,\n",
      "                                                                              r, g, b, a,\n",
      "                                                                              weight))\n",
      "        converted_L1.close()\n",
      "        converted.close()"
     ],
     "language": "python",
     "metadata": {},
     "outputs": [],
     "prompt_number": 15
    },
    {
     "cell_type": "code",
     "collapsed": false,
     "input": [],
     "language": "python",
     "metadata": {},
     "outputs": []
    }
   ],
   "metadata": {}
  }
 ]
}