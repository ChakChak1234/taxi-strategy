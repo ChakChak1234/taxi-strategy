{
 "metadata": {
  "name": "",
  "signature": "sha256:1520624ecf860b8e84705e32fcd824103c323dfb00dcb00a0da0bb4078df5ed5"
 },
 "nbformat": 3,
 "nbformat_minor": 0,
 "worksheets": [
  {
   "cells": [
    {
     "cell_type": "code",
     "collapsed": false,
     "input": [
      "import pandas as pd\n",
      "\n",
      "#prepare data for markov analysis\n",
      "#use zonetimed data\n",
      "#(see csv.ipynb, -make-zonetimed-data.ipynb)\n",
      "taxi_data_file = 'data/taxi_short_zonetimed_10_2.csv.gz'\n",
      "\n",
      "taxi_pd = pd.read_csv(taxi_data_file, compression='gzip', parse_dates=True)\n",
      "\n",
      "# drop garbage columns from csv import/export\n",
      "taxi_pd = taxi_pd.drop(taxi_pd.columns[:1], axis=1)"
     ],
     "language": "python",
     "metadata": {},
     "outputs": [],
     "prompt_number": 1
    },
    {
     "cell_type": "code",
     "collapsed": false,
     "input": [
      "taxi_pd['fare_tip_amount'] = taxi_pd.fare_amount + taxi_pd.tip_amount\n",
      "taxi_pd = taxi_pd.drop(['fare_amount', 'tip_amount'], axis=1)"
     ],
     "language": "python",
     "metadata": {},
     "outputs": [],
     "prompt_number": 2
    },
    {
     "cell_type": "code",
     "collapsed": false,
     "input": [
      "#take weekend\n",
      "taxi_pd = taxi_pd[taxi_pd.day_of_week_binned == 2]"
     ],
     "language": "python",
     "metadata": {},
     "outputs": [],
     "prompt_number": 3
    },
    {
     "cell_type": "code",
     "collapsed": false,
     "input": [
      "taxi_pd.head()"
     ],
     "language": "python",
     "metadata": {},
     "outputs": [
      {
       "html": [
        "<div style=\"max-height:1000px;max-width:1500px;overflow:auto;\">\n",
        "<table border=\"1\" class=\"dataframe\">\n",
        "  <thead>\n",
        "    <tr style=\"text-align: right;\">\n",
        "      <th></th>\n",
        "      <th>hack_number</th>\n",
        "      <th>day_of_week_binned</th>\n",
        "      <th>pickup_minute</th>\n",
        "      <th>pickup_zone</th>\n",
        "      <th>dropoff_zone</th>\n",
        "      <th>pickup_zone_time_renamed</th>\n",
        "      <th>dropoff_zone_time_renamed</th>\n",
        "      <th>trip_distance</th>\n",
        "      <th>fare_tip_amount</th>\n",
        "    </tr>\n",
        "  </thead>\n",
        "  <tbody>\n",
        "    <tr>\n",
        "      <th>0</th>\n",
        "      <td> 0</td>\n",
        "      <td> 2</td>\n",
        "      <td>  34</td>\n",
        "      <td> 888</td>\n",
        "      <td> 533</td>\n",
        "      <td>  898</td>\n",
        "      <td> 1563</td>\n",
        "      <td> 6.7</td>\n",
        "      <td> 26.5</td>\n",
        "    </tr>\n",
        "    <tr>\n",
        "      <th>1</th>\n",
        "      <td> 0</td>\n",
        "      <td> 2</td>\n",
        "      <td>  65</td>\n",
        "      <td> 533</td>\n",
        "      <td> 567</td>\n",
        "      <td> 1563</td>\n",
        "      <td> 1821</td>\n",
        "      <td> 2.7</td>\n",
        "      <td> 10.0</td>\n",
        "    </tr>\n",
        "    <tr>\n",
        "      <th>2</th>\n",
        "      <td> 0</td>\n",
        "      <td> 2</td>\n",
        "      <td>  77</td>\n",
        "      <td> 567</td>\n",
        "      <td> 565</td>\n",
        "      <td> 1821</td>\n",
        "      <td> 2321</td>\n",
        "      <td> 4.2</td>\n",
        "      <td> 15.5</td>\n",
        "    </tr>\n",
        "    <tr>\n",
        "      <th>3</th>\n",
        "      <td> 0</td>\n",
        "      <td> 2</td>\n",
        "      <td>  97</td>\n",
        "      <td> 565</td>\n",
        "      <td> 645</td>\n",
        "      <td> 2321</td>\n",
        "      <td> 2590</td>\n",
        "      <td> 0.8</td>\n",
        "      <td>  5.0</td>\n",
        "    </tr>\n",
        "    <tr>\n",
        "      <th>4</th>\n",
        "      <td> 0</td>\n",
        "      <td> 2</td>\n",
        "      <td> 109</td>\n",
        "      <td> 644</td>\n",
        "      <td> 483</td>\n",
        "      <td> 2589</td>\n",
        "      <td> 2796</td>\n",
        "      <td> 1.6</td>\n",
        "      <td>  8.0</td>\n",
        "    </tr>\n",
        "  </tbody>\n",
        "</table>\n",
        "</div>"
       ],
       "metadata": {},
       "output_type": "pyout",
       "prompt_number": 4,
       "text": [
        "   hack_number  day_of_week_binned  pickup_minute  pickup_zone  dropoff_zone  \\\n",
        "0            0                   2             34          888           533   \n",
        "1            0                   2             65          533           567   \n",
        "2            0                   2             77          567           565   \n",
        "3            0                   2             97          565           645   \n",
        "4            0                   2            109          644           483   \n",
        "\n",
        "   pickup_zone_time_renamed  dropoff_zone_time_renamed  trip_distance  \\\n",
        "0                       898                       1563            6.7   \n",
        "1                      1563                       1821            2.7   \n",
        "2                      1821                       2321            4.2   \n",
        "3                      2321                       2590            0.8   \n",
        "4                      2589                       2796            1.6   \n",
        "\n",
        "   fare_tip_amount  \n",
        "0             26.5  \n",
        "1             10.0  \n",
        "2             15.5  \n",
        "3              5.0  \n",
        "4              8.0  "
       ]
      }
     ],
     "prompt_number": 4
    },
    {
     "cell_type": "code",
     "collapsed": false,
     "input": [
      "#load zone_matrix from -find-zones.ipynb\n",
      "zone_matrix = load('data/zone_matrix_40x40.dat')\n",
      "zones = unique(zone_matrix)\n",
      "num_zones = len(zones)"
     ],
     "language": "python",
     "metadata": {},
     "outputs": [],
     "prompt_number": 5
    },
    {
     "cell_type": "code",
     "collapsed": false,
     "input": [
      "num_zones = 251\n",
      "time_bin_minutes = 10\n",
      "num_time_bins = 1440/time_bin_minutes\n",
      "\n",
      "num_zonetimes = num_zones*num_time_bins\n",
      "\n",
      "zonetimes_pd = pd.DataFrame([])\n",
      "zonetimes_pd['zone_time'] = [(zone, time_bin) for time_bin in range(int(num_time_bins)) \n",
      "                                           for zone in zones]\n",
      "zonetimes_pd['zone'] = zonetimes_pd.zone_time.apply(lambda x: x[0])\n",
      "zonetimes_pd['time_bin'] = zonetimes_pd.zone_time.apply(lambda x: x[1])\n",
      "zonetimes_pd['zone_time_renamed'] = range(len(zonetimes_pd))"
     ],
     "language": "python",
     "metadata": {},
     "outputs": [],
     "prompt_number": 6
    },
    {
     "cell_type": "code",
     "collapsed": false,
     "input": [
      "#take 7AM-7PM shift\n",
      "shift_beg = 7\n",
      "shift_end = 19\n",
      "shift_beg_time_bin = shift_beg*60/time_bin_minutes\n",
      "shift_end_time_bin = shift_end*60/time_bin_minutes"
     ],
     "language": "python",
     "metadata": {},
     "outputs": [],
     "prompt_number": 7
    },
    {
     "cell_type": "code",
     "collapsed": false,
     "input": [
      "zone_times_shift_pd = pd.DataFrame([])\n",
      "zone_times_shift_pd['pickup_zone_time_renamed'] = zonetimes_pd[(shift_beg_time_bin <= \n",
      "                                                                zonetimes_pd.time_bin) &\n",
      "                                                               (shift_end_time_bin > \n",
      "                                                                zonetimes_pd.time_bin)].zone_time_renamed.values\n",
      "zone_times_shift_pd['dropoff_zone_time_renamed'] = zone_times_shift_pd['pickup_zone_time_renamed'] \n",
      "num_zone_times_shift = len(zone_times_shift_pd)"
     ],
     "language": "python",
     "metadata": {},
     "outputs": [],
     "prompt_number": 8
    },
    {
     "cell_type": "code",
     "collapsed": false,
     "input": [
      "zone_times_shift = zone_times_shift_pd.ix[:,0].values"
     ],
     "language": "python",
     "metadata": {},
     "outputs": [],
     "prompt_number": 9
    },
    {
     "cell_type": "code",
     "collapsed": false,
     "input": [
      "#take trips in shift\n",
      "taxi_pd = pd.merge(taxi_pd, pd.DataFrame(zone_times_shift_pd['pickup_zone_time_renamed']))\n",
      "taxi_pd = pd.merge(taxi_pd, pd.DataFrame(zone_times_shift_pd['dropoff_zone_time_renamed']))"
     ],
     "language": "python",
     "metadata": {},
     "outputs": [],
     "prompt_number": 10
    },
    {
     "cell_type": "code",
     "collapsed": false,
     "input": [
      "taxi_pd = taxi_pd.drop(['day_of_week_binned', 'pickup_minute', 'pickup_zone', 'dropoff_zone'], axis=1)"
     ],
     "language": "python",
     "metadata": {},
     "outputs": [],
     "prompt_number": 11
    },
    {
     "cell_type": "code",
     "collapsed": false,
     "input": [
      "taxi_pd.head()"
     ],
     "language": "python",
     "metadata": {},
     "outputs": [
      {
       "html": [
        "<div style=\"max-height:1000px;max-width:1500px;overflow:auto;\">\n",
        "<table border=\"1\" class=\"dataframe\">\n",
        "  <thead>\n",
        "    <tr style=\"text-align: right;\">\n",
        "      <th></th>\n",
        "      <th>hack_number</th>\n",
        "      <th>pickup_zone_time_renamed</th>\n",
        "      <th>dropoff_zone_time_renamed</th>\n",
        "      <th>trip_distance</th>\n",
        "      <th>fare_tip_amount</th>\n",
        "    </tr>\n",
        "  </thead>\n",
        "  <tbody>\n",
        "    <tr>\n",
        "      <th>0</th>\n",
        "      <td>   821</td>\n",
        "      <td> 28452</td>\n",
        "      <td> 28436</td>\n",
        "      <td> 1.00</td>\n",
        "      <td>  7.5</td>\n",
        "    </tr>\n",
        "    <tr>\n",
        "      <th>1</th>\n",
        "      <td> 26454</td>\n",
        "      <td> 27960</td>\n",
        "      <td> 28436</td>\n",
        "      <td> 1.77</td>\n",
        "      <td> 12.0</td>\n",
        "    </tr>\n",
        "    <tr>\n",
        "      <th>2</th>\n",
        "      <td>  2676</td>\n",
        "      <td> 28237</td>\n",
        "      <td> 28436</td>\n",
        "      <td> 2.40</td>\n",
        "      <td> 14.5</td>\n",
        "    </tr>\n",
        "    <tr>\n",
        "      <th>3</th>\n",
        "      <td> 25177</td>\n",
        "      <td> 28237</td>\n",
        "      <td> 28436</td>\n",
        "      <td> 2.69</td>\n",
        "      <td> 11.0</td>\n",
        "    </tr>\n",
        "    <tr>\n",
        "      <th>4</th>\n",
        "      <td>  5637</td>\n",
        "      <td> 27997</td>\n",
        "      <td> 28436</td>\n",
        "      <td> 2.91</td>\n",
        "      <td> 12.0</td>\n",
        "    </tr>\n",
        "  </tbody>\n",
        "</table>\n",
        "</div>"
       ],
       "metadata": {},
       "output_type": "pyout",
       "prompt_number": 12,
       "text": [
        "   hack_number  pickup_zone_time_renamed  dropoff_zone_time_renamed  \\\n",
        "0          821                     28452                      28436   \n",
        "1        26454                     27960                      28436   \n",
        "2         2676                     28237                      28436   \n",
        "3        25177                     28237                      28436   \n",
        "4         5637                     27997                      28436   \n",
        "\n",
        "   trip_distance  fare_tip_amount  \n",
        "0           1.00              7.5  \n",
        "1           1.77             12.0  \n",
        "2           2.40             14.5  \n",
        "3           2.69             11.0  \n",
        "4           2.91             12.0  "
       ]
      }
     ],
     "prompt_number": 12
    },
    {
     "cell_type": "code",
     "collapsed": false,
     "input": [
      "reward_pd = taxi_pd.groupby(['pickup_zone_time_renamed', 'dropoff_zone_time_renamed']).fare_tip_amount.mean()\n",
      "dist_pd = taxi_pd.groupby(['pickup_zone_time_renamed', 'dropoff_zone_time_renamed']).trip_distance.mean()\n",
      "euclid_dist_pd = pd.read_pickle('data/euclid_distance_251x251_pd.pkl').groupby(['pickup_zone', \n",
      "                                                                                'dropoff_zone']).euclid_distance.mean()"
     ],
     "language": "python",
     "metadata": {},
     "outputs": [],
     "prompt_number": 13
    },
    {
     "cell_type": "code",
     "collapsed": false,
     "input": [
      "reward_dict = reward_pd.to_dict()\n",
      "dist_dict = dist_pd.to_dict()\n",
      "euclid_dist_dict = dict(zip([(int(a), int(b)) for (a,b) in euclid_dist_pd.keys().values],\n",
      "                            euclid_dist_pd.values))"
     ],
     "language": "python",
     "metadata": {},
     "outputs": [],
     "prompt_number": 14
    },
    {
     "cell_type": "code",
     "collapsed": false,
     "input": [
      "hacks_picking_up_pd = pd.DataFrame(taxi_pd.groupby('pickup_zone_time_renamed').hack_number.apply(lambda x: x.tolist())).reset_index()\n",
      "hacks_picking_up_pd.columns = ['pickup_zone_time_renamed', 'hacks_picking_up']\n",
      "hacks_dropping_off_pd = pd.DataFrame(taxi_pd.groupby('dropoff_zone_time_renamed').hack_number.apply(lambda x: x.tolist())).reset_index()\n",
      "hacks_dropping_off_pd.columns = ['dropoff_zone_time_renamed', 'hacks_dropping_off']"
     ],
     "language": "python",
     "metadata": {},
     "outputs": [],
     "prompt_number": 15
    },
    {
     "cell_type": "code",
     "collapsed": false,
     "input": [
      "pickdrop_pd = pd.merge(zone_times_shift_pd, hacks_picking_up_pd, how='left').fillna(-1)\n",
      "pickdrop_pd = pd.merge(pickdrop_pd, hacks_dropping_off_pd, how='left').fillna(-1)"
     ],
     "language": "python",
     "metadata": {},
     "outputs": [],
     "prompt_number": 16
    },
    {
     "cell_type": "code",
     "collapsed": false,
     "input": [
      "all_hacks_s = pd.Series([append(pickdrop_pd.hacks_picking_up.values[i], \n",
      "                                pickdrop_pd.hacks_dropping_off.values[i])\n",
      "                         for i in range(len(pickdrop_pd))])\n",
      "all_hacks_s = pd.Series([a[nonzero(a + 1)] for a in all_hacks_s]) #remove -1 from fillna"
     ],
     "language": "python",
     "metadata": {},
     "outputs": [],
     "prompt_number": 17
    },
    {
     "cell_type": "code",
     "collapsed": false,
     "input": [
      "pickups_s = pickdrop_pd.hacks_picking_up.apply(lambda x: array([x]).flatten())\n",
      "pickups_s = pd.Series([a[nonzero(a + 1)] for a in pickups_s]) #remove -1 from fillna\n",
      "num_pickups_s = pickups_s.apply(lambda x: len(x))\n",
      "num_unique_pickups_s = pickups_s.apply(lambda x: len(unique(x)))\n",
      "\n",
      "dropoffs_s = pickdrop_pd.hacks_dropping_off.apply(lambda x: array([x]).flatten())\n",
      "dropoffs_s = pd.Series([a[nonzero(a + 1)] for a in dropoffs_s]) #remove -1 from fillna\n",
      "num_dropoffs_s = dropoffs_s.apply(lambda x: len(x))\n",
      "num_unique_dropoffs_s = dropoffs_s.apply(lambda x: len(unique(x)))\n",
      "\n",
      "num_duplicate_s = all_hacks_s.apply(lambda x: len(x) - len(unique(x)))"
     ],
     "language": "python",
     "metadata": {},
     "outputs": [],
     "prompt_number": 18
    },
    {
     "cell_type": "code",
     "collapsed": false,
     "input": [
      "dropoff_pd = taxi_pd.groupby('pickup_zone_time_renamed').dropoff_zone_time_renamed.apply(lambda x: x.tolist())\n",
      "dropoff_dict = dropoff_pd.to_dict()"
     ],
     "language": "python",
     "metadata": {},
     "outputs": [],
     "prompt_number": 19
    },
    {
     "cell_type": "code",
     "collapsed": false,
     "input": [
      "def prob_pickup(num_pickups, num_dropoffs):\n",
      "    if num_pickups == 0:\n",
      "        return 0.\n",
      "    if num_dropoffs > 5:\n",
      "        return num_pickups / (0.01 + num_pickups + num_dropoffs)\n",
      "    return sum([(float(x) / (num_pickups + num_dropoffs) - 1) * exp(-num_pickups) * num_pickups**x / math.factorial(x) \n",
      "                for x in arange(0, num_pickups + num_dropoffs + 1)]) + 1"
     ],
     "language": "python",
     "metadata": {},
     "outputs": [],
     "prompt_number": 20
    },
    {
     "cell_type": "code",
     "collapsed": false,
     "input": [
      "prob_pickup_dict = dict(zip(zone_times_shift,\n",
      "                            vectorize(prob_pickup)(num_pickups_s, num_dropoffs_s)))\n",
      "# prob_pickup_pd = pd.DataFrame()\n",
      "# prob_pickup_pd['zone_time_renamed'] = zone_times_shift\n",
      "# prob_pickup_pd['prob_pickup'] = vectorize(prob_pickup)(num_pickups_s, num_dropoffs_s)\n",
      "# prob_pickup_pd = prob_pickup_pd.set_index('zone_time_renamed')\n",
      "# prob_pickup_dict = prob_pickup_pd.prob_pickup.to_dict()"
     ],
     "language": "python",
     "metadata": {},
     "outputs": [],
     "prompt_number": 21
    },
    {
     "cell_type": "code",
     "collapsed": false,
     "input": [
      "mean(prob_pickup_dict.values())"
     ],
     "language": "python",
     "metadata": {},
     "outputs": [
      {
       "metadata": {},
       "output_type": "pyout",
       "prompt_number": 22,
       "text": [
        "0.4788505969742396"
       ]
      }
     ],
     "prompt_number": 22
    },
    {
     "cell_type": "code",
     "collapsed": false,
     "input": [
      "#pickle tables, dictionaries, etc. for website\n",
      "# zonetimes_pd.to_pickle('mdp_files/zonetimes_pd.pkl')\n",
      "# zone_times_shift_pd.to_pickle('mdp_files/zone_times_shift_pd.pkl')\n",
      "# reward_pd.to_pickle('mdp_files/reward_pd.pkl')\n",
      "# dist_pd.to_pickle('mdp_files/dist_pd.pkl')\n",
      "# euclid_dist_pd.to_pickle('mdp_files/euclid_dist_pd.pkl')\n",
      "# dropoff_pd.to_pickle('mdp_files/dropoff_pd.pkl')\n",
      "# prob_pickup_pd.to_pickle('mdp_files/prob_pickup_pd.pkl')"
     ],
     "language": "python",
     "metadata": {},
     "outputs": [],
     "prompt_number": 23
    },
    {
     "cell_type": "code",
     "collapsed": false,
     "input": [
      "zonetimes_to_zone_dict = dict(zip(zonetimes_pd.zone_time_renamed, zonetimes_pd.zone))\n",
      "zonetimes_to_time_bin_dict = dict(zip(zonetimes_pd.zone_time_renamed, zonetimes_pd.time_bin))"
     ],
     "language": "python",
     "metadata": {},
     "outputs": [],
     "prompt_number": 24
    },
    {
     "cell_type": "code",
     "collapsed": false,
     "input": [
      "miles_per_gallon = 15.\n",
      "dollars_per_gallon = 3.\n",
      "dollars_per_mile = dollars_per_gallon / miles_per_gallon\n",
      "\n",
      "last_zone_time = zone_times_shift[-1]\n",
      "\n",
      "#generative model\n",
      "def sample_next_zone_time(next_zone_time_choices, current_zone_time, policy, num_samples):\n",
      "    if current_zone_time == last_zone_time:\n",
      "        return [], [], current_zone_time, 0., 1\n",
      "    \n",
      "    prob_pickup = prob_pickup_dict[current_zone_time]\n",
      "    num_pickup_samples = sum(random.random(num_samples) < prob_pickup)*policy[0]\n",
      "    num_no_pickup_samples = num_samples - num_pickup_samples\n",
      "    \n",
      "    #find next zonetime and rewards for num_no_pickup_samples \n",
      "    next_zone_time_no_pickup = policy[1]\n",
      "    current_zone = zonetimes_to_zone_dict[current_zone_time]\n",
      "    next_zone = zonetimes_to_zone_dict[next_zone_time_no_pickup]\n",
      "    reward_no_pickup = -dollars_per_mile*euclid_dist_dict[(current_zone, next_zone)]\n",
      "    \n",
      "    if num_pickup_samples == 0:\n",
      "        next_zone_time_pickup_samples = []\n",
      "        reward_pickup_samples = []\n",
      "    else:\n",
      "        #sample next zonetime and rewards assuming num_pickup_available_samples pickups are made\n",
      "        next_zone_time_pickup_samples = list(random.choice(next_zone_time_choices, num_pickup_samples))\n",
      "        zone_time_tuple_samples = zip([current_zone_time]*num_pickup_samples, next_zone_time_pickup_samples)\n",
      "        reward_pickup_samples = [reward_dict[zone_time_tuple] - dollars_per_mile*dist_dict[zone_time_tuple]\n",
      "                                 for zone_time_tuple in zone_time_tuple_samples]\n",
      "\n",
      "    return next_zone_time_pickup_samples, reward_pickup_samples, next_zone_time_no_pickup, reward_no_pickup,\\\n",
      "           num_no_pickup_samples"
     ],
     "language": "python",
     "metadata": {},
     "outputs": [],
     "prompt_number": 25
    },
    {
     "cell_type": "code",
     "collapsed": false,
     "input": [
      "import collections\n",
      "import functools\n",
      "\n",
      "class memoized(object):\n",
      "   '''Decorator. Caches a function's return value each time it is called.\n",
      "   If called later with the same arguments, the cached value is returned\n",
      "   (not reevaluated).\n",
      "   '''\n",
      "   def __init__(self, func):\n",
      "      self.func = func\n",
      "      self.cache = {}\n",
      "   def __call__(self, *args):\n",
      "      if not isinstance(args, collections.Hashable):\n",
      "         # uncacheable. a list, for instance.\n",
      "         # better to not cache than blow up.\n",
      "         return self.func(*args)\n",
      "      if args in self.cache:\n",
      "         return self.cache[args]\n",
      "      else:\n",
      "         value = self.func(*args)\n",
      "         self.cache[args] = value\n",
      "         return value\n",
      "   def __repr__(self):\n",
      "      '''Return the function's docstring.'''\n",
      "      return self.func.__doc__\n",
      "   def __get__(self, obj, objtype):\n",
      "      '''Support instance methods.'''\n",
      "      return functools.partial(self.__call__, obj)"
     ],
     "language": "python",
     "metadata": {},
     "outputs": [],
     "prompt_number": 86
    },
    {
     "cell_type": "code",
     "collapsed": false,
     "input": [
      "shift_end_zone_time = max(zone_times_shift)\n",
      "avg_speed_mph = 15\n",
      "max_waiting_minutes = 2*time_bin_minutes\n",
      "\n",
      "@memoized\n",
      "def get_causal_zone_times(current_zone_time):\n",
      "    #return all zone_times after current zone time and within max_waiting_minutes that can be reached\n",
      "    #assuming 15mph speed and euclidean distance\n",
      "    #change to use mean trip time between zonetimes later?\n",
      "    current_zone = zonetimes_to_zone_dict[current_zone_time]\n",
      "    current_time_bin = zonetimes_to_time_bin_dict[current_zone_time]\n",
      "    \n",
      "    min_zone_time = int((current_time_bin + 1)*num_zones)\n",
      "    max_zone_time = min(int((current_time_bin + 2 + max_waiting_minutes/time_bin_minutes)*num_zones),\n",
      "                        shift_end_zone_time)\n",
      "    \n",
      "    zone_times_within_max_waiting = arange(min_zone_time, max_zone_time)\n",
      "    time_bins_within_max_waiting = floor(zone_times_within_max_waiting/num_zones)\n",
      "    zone_times_within_max_waiting_euc_dist = array([euclid_dist_dict[(zonetimes_to_zone_dict[current_zone_time], \n",
      "                                                                      zonetimes_to_zone_dict[next_zone_time])]\n",
      "                                                    for next_zone_time in zone_times_within_max_waiting])\n",
      "    causal_zone_times = zone_times_within_max_waiting * \\\n",
      "                        (zone_times_within_max_waiting_euc_dist / avg_speed_mph * 60 <= \n",
      "                         (time_bins_within_max_waiting - current_time_bin)*time_bin_minutes)\n",
      "    return causal_zone_times[nonzero(causal_zone_times)]"
     ],
     "language": "python",
     "metadata": {},
     "outputs": [],
     "prompt_number": 173
    },
    {
     "cell_type": "code",
     "collapsed": false,
     "input": [
      "from itertools import product\n",
      "\n",
      "@memoized\n",
      "def EstimateQ(root_width, action_width, discount, depth, width, current_zone_time):\n",
      "    if depth == 0:\n",
      "        return []\n",
      "    causal_zone_times = get_causal_zone_times(current_zone_time)\n",
      "    if len(causal_zone_times) == 0:\n",
      "        return []\n",
      "    causal_zone_times = random.choice(causal_zone_times, min(action_width, len(causal_zone_times)), replace=False)\n",
      "    \n",
      "    policies_iter = product([0, 1], causal_zone_times)\n",
      "    num_policies = 2*len(causal_zone_times)\n",
      "\n",
      "#     policies_iter = product([1], causal_zone_times)\n",
      "#     num_policies = len(causal_zone_times)\n",
      "\n",
      "    Q_array = zeros((num_policies, 4))\n",
      "    \n",
      "    if current_zone_time in dropoff_dict.keys():\n",
      "        next_zone_time_choices = dropoff_dict[current_zone_time]\n",
      "    else:\n",
      "        next_zone_time_choices = causal_zone_times\n",
      "    \n",
      "    policy_counter = 0\n",
      "    for policy in policies_iter:\n",
      "        pickup_samples, reward_pickup_samples, no_pickup_sample, reward_no_pickup,\\\n",
      "            num_no_pickup_samples = sample_next_zone_time(next_zone_time_choices, current_zone_time, policy, width)\n",
      "        \n",
      "        if len(pickup_samples) > 0:\n",
      "            expected_reward = (sum(reward_pickup_samples) + num_no_pickup_samples*reward_no_pickup)/width\n",
      "        else:\n",
      "            expected_reward = reward_no_pickup\n",
      "        Q_array[policy_counter] = array([policy[0], policy[1], \n",
      "                                         expected_reward,\n",
      "                                         expected_reward + \\\n",
      "                                         discount/width*sum([EstimateV(root_width, action_width, discount, depth-1, \n",
      "                                                                       floor(discount**(2*(depth-1))*root_width), \n",
      "                                                                       next_zone_time)\n",
      "                                                             for next_zone_time in pickup_samples]) + \\\n",
      "                                         discount/width*num_no_pickup_samples*\\\n",
      "                                         EstimateV(root_width, action_width, discount, depth-1, \n",
      "                                                   floor(discount**(2*(depth-1))*root_width),\n",
      "                                                   no_pickup_sample)])\n",
      "        policy_counter += 1\n",
      "    return Q_array"
     ],
     "language": "python",
     "metadata": {},
     "outputs": [],
     "prompt_number": 174
    },
    {
     "cell_type": "code",
     "collapsed": false,
     "input": [
      "@memoized\n",
      "def EstimateV(root_width, action_width, discount, depth, width, current_zone_time):\n",
      "    Q_array = EstimateQ(root_width, action_width, discount, depth, width, current_zone_time)\n",
      "    if len(Q_array) == 0:\n",
      "        return 0.\n",
      "    return max(Q_array[:,-1])"
     ],
     "language": "python",
     "metadata": {},
     "outputs": [],
     "prompt_number": 175
    },
    {
     "cell_type": "code",
     "collapsed": false,
     "input": [
      "def simulate_trip(current_zone_time, policy):\n",
      "    causal_zone_times = get_causal_zone_times(current_zone_time)\n",
      "    \n",
      "    if len(causal_zone_times) == 0:\n",
      "        return array([current_time_zone, 0., 0])\n",
      "    \n",
      "    if current_zone_time in dropoff_dict.keys():\n",
      "        next_zone_time_choices = dropoff_dict[current_zone_time]\n",
      "    else:\n",
      "        next_zone_time_choices = [causal_zone_times[0]]\n",
      "    \n",
      "    pickup_samples, reward_pickup_samples, no_pickup_sample, reward_no_pickup, \\\n",
      "        num_no_pickup_samples = sample_next_zone_time(next_zone_time_choices, current_zone_time, policy, 1)\n",
      "    \n",
      "    if len(pickup_samples) == 1:\n",
      "            return array([pickup_samples[0], reward_pickup_samples[0], 1])\n",
      "    if policy[0] == 0:\n",
      "        return array([policy[1], reward_no_pickup, -1]) #-1 = skip pickup\n",
      "    return array([policy[1], reward_no_pickup, 0])"
     ],
     "language": "python",
     "metadata": {},
     "outputs": [],
     "prompt_number": 176
    },
    {
     "cell_type": "code",
     "collapsed": false,
     "input": [
      "%%time\n",
      "root_width = 16\n",
      "action_width = 16\n",
      "depth = 3\n",
      "# current_zone_time = random.random_integers(11000,14000)\n",
      "current_zone_time = 11000\n",
      "print current_zone_time\n",
      "EQ = EstimateQ(root_width, action_width, 0.99, depth, root_width, current_zone_time)\n",
      "argmax_a = EQ[argmax(EQ[:,-1], axis=0)]\n",
      "print int(argmax_a[0]), int(argmax_a[1]), argmax_a[2], argmax_a[3]/depth"
     ],
     "language": "python",
     "metadata": {},
     "outputs": [
      {
       "output_type": "stream",
       "stream": "stdout",
       "text": [
        "11000\n",
        "1 11260 9.2955 11.0491378349\n",
        "CPU times: user 269 \u00b5s, sys: 0 ns, total: 269 \u00b5s\n",
        "Wall time: 208 \u00b5s\n"
       ]
      }
     ],
     "prompt_number": 180
    },
    {
     "cell_type": "code",
     "collapsed": false,
     "input": [
      "# current_zone_time = random.choice(zone_times_shift[:num_zones])\n",
      "current_zone_time = 10914 #penn station\n",
      "total_expected_reward = 0.\n",
      "pickup_counter = 0\n",
      "print 'Starting in spacetime zone', current_zone_time\n",
      "while True:\n",
      "    EQ = EstimateQ(32, 32, 0.99, 2, 32, current_zone_time)\n",
      "    if len(EQ) == 0:\n",
      "        break\n",
      "    argmax_a = EQ[argmax(EQ[:,-1], axis=0)]\n",
      "    best_policy = [int(argmax_a[0]), int(argmax_a[1])]\n",
      "    \n",
      "    simulated_trip = simulate_trip(current_zone_time, best_policy)\n",
      "    current_zone_time = int(simulated_trip[0])\n",
      "    expected_reward = simulated_trip[1]\n",
      "    made_pickup = int(simulated_trip[2])\n",
      "    total_expected_reward += expected_reward\n",
      "    if made_pickup == 1:\n",
      "        pickup_counter += 1\n",
      "        print 'Make pickup: moving to {0:5d} = ({1:4d}, {2:3d}) and making {3:5.2f}'.format(current_zone_time,\n",
      "                                                                                 zonetimes_to_zone_dict[current_zone_time],\n",
      "                                                                                 zonetimes_to_time_bin_dict[current_zone_time],\n",
      "                                                                                 expected_reward)\n",
      "    if made_pickup == 0:\n",
      "        print 'No   pickup: moving to {0:5d} = ({1:4d}, {2:3d}) and losing {3:5.2f}'.format(current_zone_time,\n",
      "                                                                                 zonetimes_to_zone_dict[current_zone_time],\n",
      "                                                                                 zonetimes_to_time_bin_dict[current_zone_time],\n",
      "                                                                                 expected_reward)\n",
      "    if made_pickup == -1:\n",
      "        print 'Skip pickup: moving to {0:5d} = ({1:4d}, {2:3d}) and losing {3:5.2f}'.format(current_zone_time,\n",
      "                                                                                 zonetimes_to_zone_dict[current_zone_time],\n",
      "                                                                                 zonetimes_to_time_bin_dict[current_zone_time],\n",
      "                                                                                 expected_reward)\n",
      "print 'Total / hour = {0:0.2f}'.format(total_expected_reward/12.)\n",
      "print 'Pickups / hour = {0:0.2f}'.format(pickup_counter/12.)"
     ],
     "language": "python",
     "metadata": {},
     "outputs": [
      {
       "output_type": "stream",
       "stream": "stdout",
       "text": [
        "Starting in spacetime zone 10914\n",
        "Skip pickup: moving to 11725 = ( 982,  46) and losing -1.42\n",
        "Make pickup: moving to 12550 = (   0,  50) and making 155.78\n",
        "No   pickup: moving to 13052 = (   0,  52) and losing -0.69\n",
        "No   pickup: moving to 13805 = (   0,  55) and losing -0.69\n",
        "Make pickup: moving to 14056 = (   0,  56) and making 10.76\n",
        "No   pickup: moving to 14809 = (   0,  59) and losing -0.69"
       ]
      },
      {
       "output_type": "stream",
       "stream": "stdout",
       "text": [
        "\n",
        "No   pickup: moving to 15311 = (   0,  61) and losing -0.69\n",
        "Make pickup: moving to 15699 = ( 852,  62) and making 11.59\n",
        "Skip pickup: moving to 16498 = ( 993,  65) and losing -0.98"
       ]
      },
      {
       "output_type": "stream",
       "stream": "stdout",
       "text": [
        "\n",
        "Make pickup: moving to 17016 = (1055,  67) and making 22.33"
       ]
      },
      {
       "output_type": "stream",
       "stream": "stdout",
       "text": [
        "\n",
        "No   pickup: moving to 17785 = (1137,  70) and losing -0.62"
       ]
      },
      {
       "output_type": "stream",
       "stream": "stdout",
       "text": [
        "\n",
        "Make pickup: moving to 17893 = ( 605,  71) and making 23.16"
       ]
      },
      {
       "output_type": "stream",
       "stream": "stdout",
       "text": [
        "\n",
        "No   pickup: moving to 18611 = ( 485,  74) and losing -0.83"
       ]
      },
      {
       "output_type": "stream",
       "stream": "stdout",
       "text": [
        "\n",
        "Make pickup: moving to 18878 = ( 527,  75) and making  8.24"
       ]
      },
      {
       "output_type": "stream",
       "stream": "stdout",
       "text": [
        "\n",
        "Make pickup: moving to 19165 = ( 685,  76) and making  9.84"
       ]
      },
      {
       "output_type": "stream",
       "stream": "stdout",
       "text": [
        "\n",
        "Skip pickup: moving to 19685 = ( 742,  78) and losing -0.59"
       ]
      },
      {
       "output_type": "stream",
       "stream": "stdout",
       "text": [
        "\n",
        "Make pickup: moving to 20226 = ( 889,  80) and making 17.65"
       ]
      },
      {
       "output_type": "stream",
       "stream": "stdout",
       "text": [
        "\n",
        "Skip pickup: moving to 20764 = ( 992,  82) and losing -0.81"
       ]
      },
      {
       "output_type": "stream",
       "stream": "stdout",
       "text": [
        "\n",
        "Make pickup: moving to 21287 = (1091,  84) and making 34.47"
       ]
      },
      {
       "output_type": "stream",
       "stream": "stdout",
       "text": [
        "\n",
        "Skip pickup: moving to 22019 = ( 992,  87) and losing -0.71"
       ]
      },
      {
       "output_type": "stream",
       "stream": "stdout",
       "text": [
        "\n",
        "Make pickup: moving to 22710 = ( 806,  90) and making 35.56"
       ]
      },
      {
       "output_type": "stream",
       "stream": "stdout",
       "text": [
        "\n",
        "No   pickup: moving to 23199 = ( 742,  92) and losing -0.69"
       ]
      },
      {
       "output_type": "stream",
       "stream": "stdout",
       "text": [
        "\n",
        "Make pickup: moving to 23612 = ( 328,  94) and making 26.70"
       ]
      },
      {
       "output_type": "stream",
       "stream": "stdout",
       "text": [
        "\n",
        "Make pickup: moving to 24285 = (1014,  96) and making 27.08"
       ]
      },
      {
       "output_type": "stream",
       "stream": "stdout",
       "text": [
        "\n",
        "Skip pickup: moving to 25029 = ( 988,  99) and losing -0.84"
       ]
      },
      {
       "output_type": "stream",
       "stream": "stdout",
       "text": [
        "\n",
        "No   pickup: moving to 25785 = ( 993, 102) and losing -0.69"
       ]
      },
      {
       "output_type": "stream",
       "stream": "stdout",
       "text": [
        "\n",
        "Make pickup: moving to 26528 = ( 970, 105) and making 33.90"
       ]
      },
      {
       "output_type": "stream",
       "stream": "stdout",
       "text": [
        "\n",
        "Skip pickup: moving to 27039 = ( 992, 107) and losing -0.31"
       ]
      },
      {
       "output_type": "stream",
       "stream": "stdout",
       "text": [
        "\n",
        "Make pickup: moving to 27359 = (   0, 109) and making 20.47"
       ]
      },
      {
       "output_type": "stream",
       "stream": "stdout",
       "text": [
        "\n",
        "No   pickup: moving to 27861 = (   0, 111) and losing -0.69"
       ]
      },
      {
       "output_type": "stream",
       "stream": "stdout",
       "text": [
        "\n",
        "No   pickup: moving to 28363 = (   0, 113) and losing -0.69\n",
        "Total / hour = 35.41\n",
        "Pickups / hour = 1.17\n"
       ]
      }
     ],
     "prompt_number": 126
    },
    {
     "cell_type": "code",
     "collapsed": false,
     "input": [
      "def simulate_shift(root_width, action_width, discount, starting_zone_time, depth, optimal=True, print_status=False):\n",
      "    current_zone_time = starting_zone_time\n",
      "    total_expected_reward = 0.\n",
      "    pickup_counter = 0\n",
      "    while True:\n",
      "        if optimal:\n",
      "            EQ = EstimateQ(root_width, action_width, discount, depth, root_width, current_zone_time)\n",
      "            if len(EQ) == 0:\n",
      "                break\n",
      "            argmax_a = EQ[argmax(EQ[:,-1], axis=0)]\n",
      "            best_policy = [int(argmax_a[0]), int(argmax_a[1])]\n",
      "        else:\n",
      "            causal_zone_times = get_causal_zone_times(current_zone_time)\n",
      "            if len(causal_zone_times) == 0:\n",
      "                break\n",
      "#             best_policy = [random.randint(0, 2), random.choice(causal_zone_times)]\n",
      "            best_policy = [1, random.choice(causal_zone_times)]\n",
      "\n",
      "        simulated_trip = simulate_trip(current_zone_time, best_policy)\n",
      "        current_zone_time = int(simulated_trip[0])\n",
      "        expected_reward = simulated_trip[1]\n",
      "        made_pickup = int(simulated_trip[2])\n",
      "        total_expected_reward += expected_reward\n",
      "        if made_pickup:\n",
      "            pickup_counter += 1\n",
      "        if print_status:\n",
      "            if made_pickup == 1:\n",
      "                print 'Make pickup: moving to {0:5d} = ({1:4d}, {2:3d}) and making {3:5.2f}'.format(current_zone_time,\n",
      "                                                                                         zonetimes_to_zone_dict[current_zone_time],\n",
      "                                                                                         zonetimes_to_time_bin_dict[current_zone_time],\n",
      "                                                                                         expected_reward)\n",
      "            if made_pickup == 0:\n",
      "                print 'No   pickup: moving to {0:5d} = ({1:4d}, {2:3d}) and losing {3:5.2f}'.format(current_zone_time,\n",
      "                                                                                         zonetimes_to_zone_dict[current_zone_time],\n",
      "                                                                                         zonetimes_to_time_bin_dict[current_zone_time],\n",
      "                                                                                         expected_reward)\n",
      "            if made_pickup == -1:\n",
      "                print 'Skip pickup: moving to {0:5d} = ({1:4d}, {2:3d}) and losing {3:5.2f}'.format(current_zone_time,\n",
      "                                                                                         zonetimes_to_zone_dict[current_zone_time],\n",
      "                                                                                         zonetimes_to_time_bin_dict[current_zone_time],\n",
      "                                                                                         expected_reward)\n",
      "    if print_status:\n",
      "        print 'Shift done, total / hour = {0:0.2f}, pickups / hour = {1:0.2f}'.format(total_expected_reward/12.,\n",
      "                                                                                      pickup_counter)\n",
      "    return total_expected_reward/12., pickup_counter/12."
     ],
     "language": "python",
     "metadata": {},
     "outputs": [],
     "prompt_number": 236
    },
    {
     "cell_type": "code",
     "collapsed": false,
     "input": [
      "def sample_total_rewards(root_width, action_width, discount, \n",
      "                         num_shifts, starting_zone_time, depth=1, optimal=True, print_status=False):\n",
      "    print 'Sampling depth ' + str(depth) + ' and widths (' + str(root_width) + ', ' + str(action_width) + '):'\n",
      "    total_rewards = zeros(num_shifts)\n",
      "    total_pickups = zeros(num_shifts)\n",
      "    for shift in range(num_shifts):\n",
      "        total_rewards[shift], total_pickups[shift] = simulate_shift(root_width, action_width, discount, \n",
      "                                                                    starting_zone_time, depth, optimal, print_status)\n",
      "        if shift % 100 == 0:\n",
      "            print 'Shift {0} done.'.format(shift)\n",
      "    print 'Total / hour: {0:.2f}+/-{1:.2f}'.format(mean(total_rewards), std(total_rewards))\n",
      "    print 'Pickups / hour: {0:.2f}+/-{1:.2f} \\n'.format(mean(total_pickups), std(total_pickups))\n",
      "    clf()\n",
      "    figure(figsize(8, 6))\n",
      "    rcParams.update({'font.size': 14})\n",
      "    hist(total_rewards, range=(10, 50), bins=20, alpha=0.4, color='g')\n",
      "    xlabel('net dollars per hour')\n",
      "    ylabel('number of hacks')\n",
      "    xlim([10,50])\n",
      "    ylim([0, num_shifts/5])\n",
      "    if optimal:\n",
      "        title('MDP strategy with depth ' + str(depth) + ' and widths (' + str(root_width) + ', ' + str(action_width) + ')')\n",
      "    else:\n",
      "        title('random strategy')\n",
      "#     savefig('figures/mdp/hack_performance-' + str(root_width) + '-'  + str(action_width) + '-'  + \n",
      "#             str(discount) + '-' + str(num_shifts) + '-' + str(starting_zone_time) + '-' + \n",
      "#             str(depth) + '-' + str(optimal) + '.png')\n",
      "#     savetxt('figures/mdp/hack_performance-' + str(root_width) + '-'  + str(action_width) + '-'  + \n",
      "#             str(discount) + '-' + str(num_shifts) + '-' + str(starting_zone_time) + '-' + \n",
      "#             str(depth) + '-' + str(optimal) + '-rewards.txt', total_rewards)\n",
      "#     savetxt('figures/mdp/hack_performance-' + str(root_width) + '-'  + str(action_width) + '-'  + \n",
      "#             str(discount) + '-' + str(num_shifts) + '-' + str(starting_zone_time) + '-' + \n",
      "#             str(depth) + '-' + str(optimal) + '-pickups.txt', total_pickups)\n",
      "    show()\n",
      "    close()"
     ],
     "language": "python",
     "metadata": {},
     "outputs": [],
     "prompt_number": 61
    },
    {
     "cell_type": "code",
     "collapsed": false,
     "input": [
      "def f(root_width, action_width, depth):\n",
      "    return sample_total_rewards(root_width, action_width, 0.99, 500, 10914, depth, 1, 0)\n",
      "\n",
      "sample_total_rewards(32, 0, 0.99, 500, 10914, 0, 0, 0)\n",
      "for root_width in [32]:\n",
      "    for action_width in [16, 32]:\n",
      "        for depth in [1, 2, 4]:\n",
      "            f(root_width, action_width, depth)"
     ],
     "language": "python",
     "metadata": {},
     "outputs": [
      {
       "output_type": "stream",
       "stream": "stdout",
       "text": [
        "Sampling depth 0 and widths (32, 0):\n",
        "Shift 0 done."
       ]
      },
      {
       "output_type": "stream",
       "stream": "stdout",
       "text": [
        "\n",
        "Shift 100 done."
       ]
      },
      {
       "output_type": "stream",
       "stream": "stdout",
       "text": [
        "\n",
        "Shift 200 done."
       ]
      },
      {
       "output_type": "stream",
       "stream": "stdout",
       "text": [
        "\n",
        "Shift 300 done."
       ]
      },
      {
       "output_type": "stream",
       "stream": "stdout",
       "text": [
        "\n",
        "Shift 400 done."
       ]
      },
      {
       "output_type": "stream",
       "stream": "stdout",
       "text": [
        "\n",
        "Total / hour: 17.53+/-5.40"
       ]
      },
      {
       "output_type": "stream",
       "stream": "stdout",
       "text": [
        "\n",
        "Pickups / hour: 1.52+/-0.39 \n",
        "\n"
       ]
      },
      {
       "metadata": {},
       "output_type": "display_data",
       "text": [
        "<matplotlib.figure.Figure at 0x7f88a3070450>"
       ]
      },
      {
       "metadata": {},
       "output_type": "display_data",
       "png": "[encoded data removed]",
       "text": [
        "<matplotlib.figure.Figure at 0x7f88a3bf8d10>"
       ]
      },
      {
       "output_type": "stream",
       "stream": "stdout",
       "text": [
        "Sampling depth 1 and widths (32, 16):\n",
        "Shift 0 done."
       ]
      },
      {
       "output_type": "stream",
       "stream": "stdout",
       "text": [
        "\n",
        "Shift 100 done."
       ]
      },
      {
       "output_type": "stream",
       "stream": "stdout",
       "text": [
        "\n",
        "Shift 200 done."
       ]
      },
      {
       "output_type": "stream",
       "stream": "stdout",
       "text": [
        "\n",
        "Shift 300 done."
       ]
      },
      {
       "output_type": "stream",
       "stream": "stdout",
       "text": [
        "\n",
        "Shift 400 done."
       ]
      },
      {
       "output_type": "stream",
       "stream": "stdout",
       "text": [
        "\n",
        "Total / hour: 18.12+/-4.90"
       ]
      },
      {
       "output_type": "stream",
       "stream": "stdout",
       "text": [
        "\n",
        "Pickups / hour: 1.56+/-0.37 \n",
        "\n"
       ]
      },
      {
       "metadata": {},
       "output_type": "display_data",
       "text": [
        "<matplotlib.figure.Figure at 0x7f88a2ebf2d0>"
       ]
      },
      {
       "metadata": {},
       "output_type": "display_data",
       "png": "[encoded data removed]",
       "text": [
        "<matplotlib.figure.Figure at 0x7f889b209050>"
       ]
      },
      {
       "output_type": "stream",
       "stream": "stdout",
       "text": [
        "Sampling depth 2 and widths (32, 16):\n",
        "Shift 0 done."
       ]
      },
      {
       "output_type": "stream",
       "stream": "stdout",
       "text": [
        "\n",
        "Shift 100 done."
       ]
      },
      {
       "output_type": "stream",
       "stream": "stdout",
       "text": [
        "\n",
        "Shift 200 done."
       ]
      },
      {
       "output_type": "stream",
       "stream": "stdout",
       "text": [
        "\n",
        "Shift 300 done."
       ]
      },
      {
       "output_type": "stream",
       "stream": "stdout",
       "text": [
        "\n",
        "Shift 400 done."
       ]
      },
      {
       "output_type": "stream",
       "stream": "stdout",
       "text": [
        "\n",
        "Total / hour: 21.60+/-5.58"
       ]
      },
      {
       "output_type": "stream",
       "stream": "stdout",
       "text": [
        "\n",
        "Pickups / hour: 1.60+/-0.35 \n",
        "\n"
       ]
      },
      {
       "metadata": {},
       "output_type": "display_data",
       "text": [
        "<matplotlib.figure.Figure at 0x7f889ba44210>"
       ]
      },
      {
       "metadata": {},
       "output_type": "display_data",
       "png": "[encoded data removed]",
       "text": [
        "<matplotlib.figure.Figure at 0x7f88a26e8290>"
       ]
      },
      {
       "output_type": "stream",
       "stream": "stdout",
       "text": [
        "Sampling depth 4 and widths (32, 16):\n",
        "Shift 0 done."
       ]
      },
      {
       "output_type": "stream",
       "stream": "stdout",
       "text": [
        "\n",
        "Shift 100 done."
       ]
      },
      {
       "output_type": "stream",
       "stream": "stdout",
       "text": [
        "\n",
        "Shift 200 done."
       ]
      },
      {
       "output_type": "stream",
       "stream": "stdout",
       "text": [
        "\n",
        "Shift 300 done."
       ]
      },
      {
       "output_type": "stream",
       "stream": "stdout",
       "text": [
        "\n",
        "Shift 400 done."
       ]
      },
      {
       "output_type": "stream",
       "stream": "stdout",
       "text": [
        "\n",
        "Total / hour: 21.30+/-5.57"
       ]
      },
      {
       "output_type": "stream",
       "stream": "stdout",
       "text": [
        "\n",
        "Pickups / hour: 1.57+/-0.33 \n",
        "\n"
       ]
      },
      {
       "metadata": {},
       "output_type": "display_data",
       "text": [
        "<matplotlib.figure.Figure at 0x7f88a3070290>"
       ]
      },
      {
       "metadata": {},
       "output_type": "display_data",
       "png": "[encoded data removed]",
       "text": [
        "<matplotlib.figure.Figure at 0x7f88a3c05d50>"
       ]
      },
      {
       "output_type": "stream",
       "stream": "stdout",
       "text": [
        "Sampling depth 1 and widths (32, 32):\n",
        "Shift 0 done."
       ]
      },
      {
       "output_type": "stream",
       "stream": "stdout",
       "text": [
        "\n",
        "Shift 100 done."
       ]
      },
      {
       "output_type": "stream",
       "stream": "stdout",
       "text": [
        "\n",
        "Shift 200 done."
       ]
      },
      {
       "output_type": "stream",
       "stream": "stdout",
       "text": [
        "\n",
        "Shift 300 done."
       ]
      },
      {
       "output_type": "stream",
       "stream": "stdout",
       "text": [
        "\n",
        "Shift 400 done."
       ]
      },
      {
       "output_type": "stream",
       "stream": "stdout",
       "text": [
        "\n",
        "Total / hour: 18.13+/-5.38"
       ]
      },
      {
       "output_type": "stream",
       "stream": "stdout",
       "text": [
        "\n",
        "Pickups / hour: 1.56+/-0.39 \n",
        "\n"
       ]
      },
      {
       "metadata": {},
       "output_type": "display_data",
       "text": [
        "<matplotlib.figure.Figure at 0x7f88a279b550>"
       ]
      },
      {
       "metadata": {},
       "output_type": "display_data",
       "png": "[encoded data removed]",
       "text": [
        "<matplotlib.figure.Figure at 0x7f88a2c3d550>"
       ]
      },
      {
       "output_type": "stream",
       "stream": "stdout",
       "text": [
        "Sampling depth 2 and widths (32, 32):\n",
        "Shift 0 done."
       ]
      },
      {
       "output_type": "stream",
       "stream": "stdout",
       "text": [
        "\n",
        "Shift 100 done."
       ]
      },
      {
       "output_type": "stream",
       "stream": "stdout",
       "text": [
        "\n",
        "Shift 200 done."
       ]
      },
      {
       "output_type": "stream",
       "stream": "stdout",
       "text": [
        "\n",
        "Shift 300 done."
       ]
      },
      {
       "output_type": "stream",
       "stream": "stdout",
       "text": [
        "\n",
        "Shift 400 done."
       ]
      },
      {
       "output_type": "stream",
       "stream": "stdout",
       "text": [
        "\n",
        "Total / hour: 21.51+/-5.54"
       ]
      },
      {
       "output_type": "stream",
       "stream": "stdout",
       "text": [
        "\n",
        "Pickups / hour: 1.53+/-0.32 \n",
        "\n"
       ]
      },
      {
       "metadata": {},
       "output_type": "display_data",
       "text": [
        "<matplotlib.figure.Figure at 0x7f88a3c08a10>"
       ]
      },
      {
       "metadata": {},
       "output_type": "display_data",
       "png": "[encoded data removed]",
       "text": [
        "<matplotlib.figure.Figure at 0x7f88a34ea8d0>"
       ]
      },
      {
       "output_type": "stream",
       "stream": "stdout",
       "text": [
        "Sampling depth 4 and widths (32, 32):\n",
        "Shift 0 done."
       ]
      },
      {
       "output_type": "stream",
       "stream": "stdout",
       "text": [
        "\n",
        "Shift 100 done."
       ]
      },
      {
       "output_type": "stream",
       "stream": "stdout",
       "text": [
        "\n",
        "Shift 200 done."
       ]
      },
      {
       "output_type": "stream",
       "stream": "stdout",
       "text": [
        "\n",
        "Shift 300 done."
       ]
      },
      {
       "output_type": "stream",
       "stream": "stdout",
       "text": [
        "\n",
        "Shift 400 done."
       ]
      },
      {
       "output_type": "stream",
       "stream": "stdout",
       "text": [
        "\n",
        "Total / hour: 22.81+/-5.53"
       ]
      },
      {
       "output_type": "stream",
       "stream": "stdout",
       "text": [
        "\n",
        "Pickups / hour: 1.59+/-0.32 \n",
        "\n"
       ]
      },
      {
       "metadata": {},
       "output_type": "display_data",
       "text": [
        "<matplotlib.figure.Figure at 0x7f88a3bb4f10>"
       ]
      },
      {
       "metadata": {},
       "output_type": "display_data",
       "png": "[encoded data removed]",
       "text": [
        "<matplotlib.figure.Figure at 0x7f88a34efc50>"
       ]
      }
     ],
     "prompt_number": 238
    },
    {
     "cell_type": "code",
     "collapsed": false,
     "input": [
      "# root_widths = [4, 8, 16]\n",
      "# action_widths = [4, 8, 16]\n",
      "# depths = [1, 2, 4]\n",
      "# rw_aw_d = zip(*itertools.product(root_widths, action_widths, depths))\n",
      "\n",
      "# def f(root_width, action_width, depth):\n",
      "#     return sample_total_rewards(root_width, action_width, 0.95, 10, 10914, depth, 1, 0)\n",
      "\n",
      "# from joblib import Parallel, delayed\n",
      "# result = Parallel(n_jobs=4, verbose=50)(delayed(f)(rw, aw, d) for rw in root_widths\n",
      "#                                         for aw in action_widths for d in depths)"
     ],
     "language": "python",
     "metadata": {},
     "outputs": [],
     "prompt_number": 33
    },
    {
     "cell_type": "code",
     "collapsed": false,
     "input": [
      "# from multiprocessing import Pool\n",
      "# import itertools\n",
      "\n",
      "# def f2(rw_aw_d):\n",
      "#     root_width, action_width, depth = rw_aw_d\n",
      "#     return sample_total_rewards(root_width, action_width, 0.95, 10, 10914, depth, 1, 0)\n",
      "\n",
      "# root_widths = [16]\n",
      "# action_widths = [4, 8, 16]\n",
      "# depths = [1, 2, 4]\n",
      "# rw_aw_d = [i for i in itertools.product(root_widths, action_widths, depths)]\n",
      "\n",
      "# p = Pool(4)\n",
      "\n",
      "# r = p.map_async(f2, rw_aw_d)\n",
      "# r.get()"
     ],
     "language": "python",
     "metadata": {},
     "outputs": [],
     "prompt_number": 34
    },
    {
     "cell_type": "code",
     "collapsed": false,
     "input": [
      "# from IPython.parallel import Client\n",
      "# import itertools\n",
      "\n",
      "# c = Client()   # here is where the client establishes the connection\n",
      "# # lv = c.load_balanced_view()   # this object represents the engines (workers)\n",
      "# dview = c[:]\n",
      "\n",
      "# def f(root_width, action_width, depth):\n",
      "#     return sample_total_rewards(root_width, action_width, 0.95, 100, 10914, depth, 1, 0)\n",
      "\n",
      "# # tasks = []\n",
      "\n",
      "# # result = [task.get() for task in tasks]  # blocks until all results are back\n",
      "\n",
      "# # for root_width in [4, 8, 16]:\n",
      "# #     for action_width in [4, 8, 16]:\n",
      "# #         for depth in [1, 2, 4]:\n",
      "# # #             print 'Starting root_width ' + str(root_width) + ' action_width ' + str(action_width) + ' depth ' + str(depth)\n",
      "# #             tasks.append(lv.apply(f, root_width, action_width, depth))\n",
      "\n",
      "# root_widths = [4, 8, 16]\n",
      "# action_widths = [4, 8, 16]\n",
      "# depths = [1, 2, 4]\n",
      "# rw, aw, d = zip(*itertools.product(root_widths, action_widths, depths))\n",
      "# dview.map(f, rw, aw, d)"
     ],
     "language": "python",
     "metadata": {},
     "outputs": [],
     "prompt_number": 123
    },
    {
     "cell_type": "code",
     "collapsed": false,
     "input": [
      "# test speed\n",
      "# import cProfile, pstats, StringIO\n",
      "# pr = cProfile.Profile()\n",
      "# pr.enable()\n",
      "# EstimateQ(5, root_width, random.choice(zone_times_shift[:num_zones]))\n",
      "# pr.disable()\n",
      "# s = StringIO.StringIO()\n",
      "# sortby = 'cumtime'\n",
      "# ps = pstats.Stats(pr, stream=s).sort_stats(sortby)\n",
      "# ps.print_stats()\n",
      "# print s.getvalue()"
     ],
     "language": "python",
     "metadata": {},
     "outputs": [],
     "prompt_number": 210
    },
    {
     "cell_type": "code",
     "collapsed": false,
     "input": [
      "# test speed\n",
      "import cProfile, pstats, StringIO\n",
      "pr = cProfile.Profile()\n",
      "pr.enable()\n",
      "root_width = 16\n",
      "action_width = 16\n",
      "depth = 3\n",
      "current_zone_time = random.random_integers(11000,14000)\n",
      "print current_zone_time\n",
      "EQ = EstimateQ(root_width, action_width, 0.99, depth, root_width, current_zone_time)\n",
      "pr.disable()\n",
      "s = StringIO.StringIO()\n",
      "sortby = 'cumtime'\n",
      "ps = pstats.Stats(pr, stream=s).sort_stats(sortby)\n",
      "ps.print_stats()\n",
      "print s.getvalue()"
     ],
     "language": "python",
     "metadata": {},
     "outputs": [
      {
       "output_type": "stream",
       "stream": "stdout",
       "text": [
        "11261\n",
        "         302639 function calls (233133 primitive calls) in 1.983 seconds\n",
        "\n",
        "   Ordered by: cumulative time\n",
        "\n",
        "   ncalls  tottime  percall  cumtime  percall filename:lineno(function)\n",
        "        7    0.000    0.000    1.982    0.283 /usr/local/lib/python2.7/dist-packages/IPython/core/interactiveshell.py:2854(run_code)\n",
        "        1    0.000    0.000    1.982    1.982 <ipython-input-182-883f92fef220>:10(<module>)\n",
        "  67983/1    0.077    0.000    1.982    1.982 <ipython-input-86-89080806d28b>:12(__call__)\n",
        "    795/1    0.392    0.000    1.982    1.982 <ipython-input-174-5b8aecf7e208>:3(EstimateQ)\n",
        "   794/64    0.003    0.000    1.976    0.031 <ipython-input-175-4041dec4a30e>:1(EstimateV)\n",
        "    13308    0.327    0.000    0.735    0.000 <ipython-input-25-f7611424f0cd>:8(sample_next_zone_time)\n",
        "      355    0.372    0.001    0.403    0.001 <ipython-input-173-8df5fbb3af56>:5(get_causal_zone_times)\n",
        "    33191    0.080    0.000    0.390    0.000 /usr/local/lib/python2.7/dist-packages/numpy/core/fromnumeric.py:1621(sum)\n",
        "    40186    0.301    0.000    0.301    0.000 {method 'reduce' of 'numpy.ufunc' objects}\n",
        "    33191    0.032    0.000    0.292    0.000 /usr/local/lib/python2.7/dist-packages/numpy/core/_methods.py:23(_sum)\n",
        "     6995    0.165    0.000    0.233    0.000 {method 'choice' of 'mtrand.RandomState' objects}\n",
        "    13308    0.076    0.000    0.076    0.000 {method 'random_sample' of 'mtrand.RandomState' objects}\n",
        "     6995    0.011    0.000    0.068    0.000 /usr/local/lib/python2.7/dist-packages/numpy/core/fromnumeric.py:2249(prod)\n",
        "    13663    0.061    0.000    0.061    0.000 {numpy.core.multiarray.array}\n",
        "     6575    0.011    0.000    0.052    0.000 {method 'prod' of 'numpy.generic' objects}\n",
        "     6995    0.006    0.000    0.046    0.000 /usr/local/lib/python2.7/dist-packages/numpy/core/_methods.py:27(_prod)\n",
        "      420    0.036    0.000    0.036    0.000 {method 'keys' of 'dict' objects}\n",
        "    33193    0.018    0.000    0.018    0.000 {isinstance}\n",
        "     6575    0.006    0.000    0.006    0.000 {zip}\n",
        "      355    0.000    0.000    0.003    0.000 /usr/local/lib/python2.7/dist-packages/numpy/core/fromnumeric.py:1370(nonzero)\n",
        "      355    0.002    0.000    0.002    0.000 {method 'nonzero' of 'numpy.ndarray' objects}\n",
        "    15362    0.002    0.000    0.002    0.000 {len}\n",
        "      419    0.002    0.000    0.002    0.000 {max}\n",
        "      355    0.002    0.000    0.002    0.000 {numpy.core.multiarray.arange}\n",
        "      775    0.001    0.000    0.001    0.000 {min}\n",
        "      420    0.001    0.000    0.001    0.000 {numpy.core.multiarray.zeros}\n",
        "        7    0.000    0.000    0.000    0.000 /usr/lib/python2.7/codeop.py:132(__call__)\n",
        "        7    0.000    0.000    0.000    0.000 {compile}\n",
        "        1    0.000    0.000    0.000    0.000 <ipython-input-182-883f92fef220>:9(<module>)\n",
        "        2    0.000    0.000    0.000    0.000 /usr/local/lib/python2.7/dist-packages/IPython/kernel/zmq/iostream.py:196(write)\n",
        "        7    0.000    0.000    0.000    0.000 /usr/local/lib/python2.7/dist-packages/IPython/core/hooks.py:127(__call__)\n",
        "        2    0.000    0.000    0.000    0.000 {method 'decode' of 'str' objects}\n",
        "        1    0.000    0.000    0.000    0.000 <ipython-input-182-883f92fef220>:8(<module>)\n",
        "        7    0.000    0.000    0.000    0.000 /usr/local/lib/python2.7/dist-packages/IPython/utils/ipstruct.py:125(__getattr__)\n",
        "        2    0.000    0.000    0.000    0.000 /usr/lib/python2.7/encodings/utf_8.py:15(decode)\n",
        "        2    0.000    0.000    0.000    0.000 /usr/local/lib/python2.7/dist-packages/IPython/kernel/zmq/iostream.py:95(_check_mp_mode)\n",
        "        2    0.000    0.000    0.000    0.000 {_codecs.utf_8_decode}\n",
        "        7    0.000    0.000    0.000    0.000 /usr/local/lib/python2.7/dist-packages/IPython/core/interactiveshell.py:1055(user_global_ns)\n",
        "        2    0.000    0.000    0.000    0.000 /usr/local/lib/python2.7/dist-packages/IPython/kernel/zmq/iostream.py:86(_is_master_process)\n",
        "        1    0.000    0.000    0.000    0.000 <ipython-input-182-883f92fef220>:11(<module>)\n",
        "        1    0.000    0.000    0.000    0.000 {method 'random_integers' of 'mtrand.RandomState' objects}\n",
        "        2    0.000    0.000    0.000    0.000 {method 'write' of '_io.StringIO' objects}\n",
        "        7    0.000    0.000    0.000    0.000 /usr/local/lib/python2.7/dist-packages/IPython/core/hooks.py:192(pre_run_code_hook)\n",
        "        2    0.000    0.000    0.000    0.000 {time.time}\n",
        "        2    0.000    0.000    0.000    0.000 {posix.getpid}\n",
        "        1    0.000    0.000    0.000    0.000 <ipython-input-182-883f92fef220>:5(<module>)\n",
        "        1    0.000    0.000    0.000    0.000 <ipython-input-182-883f92fef220>:6(<module>)\n",
        "        1    0.000    0.000    0.000    0.000 <ipython-input-182-883f92fef220>:7(<module>)\n",
        "        1    0.000    0.000    0.000    0.000 {method 'disable' of '_lsprof.Profiler' objects}\n",
        "\n",
        "\n"
       ]
      },
      {
       "output_type": "stream",
       "stream": "stdout",
       "text": [
        "\n"
       ]
      }
     ],
     "prompt_number": 182
    },
    {
     "cell_type": "code",
     "collapsed": false,
     "input": [],
     "language": "python",
     "metadata": {},
     "outputs": []
    }
   ],
   "metadata": {}
  }
 ]
}